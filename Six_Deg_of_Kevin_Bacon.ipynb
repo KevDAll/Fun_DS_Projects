{
 "cells": [
  {
   "cell_type": "markdown",
   "metadata": {},
   "source": [
    "# 6 Degrees of Kevin Bacon"
   ]
  },
  {
   "cell_type": "markdown",
   "metadata": {},
   "source": [
    "This project will look at the Ranker website for Cast Lists of Every Film to Devlop a Tool for playing the popular Game for 6 degrees of Kevin Bacon.  It will also be evaluated if Kevin Bacon really is the most connected celebrity, or if other celebirties are more connected"
   ]
  },
  {
   "cell_type": "code",
   "execution_count": 1,
   "metadata": {
    "collapsed": true
   },
   "outputs": [],
   "source": [
    "from bs4 import BeautifulSoup\n",
    "import re\n",
    "import requests\n",
    "from requests_futures.sessions import FuturesSession\n",
    "from string import ascii_lowercase\n",
    "import string"
   ]
  },
  {
   "cell_type": "markdown",
   "metadata": {},
   "source": [
    "## Get the cast list for each movie"
   ]
  },
  {
   "cell_type": "markdown",
   "metadata": {},
   "source": [
    "### Get the links for all the movie pages"
   ]
  },
  {
   "cell_type": "code",
   "execution_count": 2,
   "metadata": {},
   "outputs": [
    {
     "name": "stderr",
     "output_type": "stream",
     "text": [
      "/opt/conda/lib/python2.7/site-packages/bs4/__init__.py:166: UserWarning: No parser was explicitly specified, so I'm using the best available HTML parser for this system (\"lxml\"). This usually isn't a problem, but if you run this code on another system, or in a different virtual environment, it may use a different parser and behave differently.\n",
      "\n",
      "To get rid of this warning, change this:\n",
      "\n",
      " BeautifulSoup([your markup])\n",
      "\n",
      "to this:\n",
      "\n",
      " BeautifulSoup([your markup], \"lxml\")\n",
      "\n",
      "  markup_type=markup_type))\n"
     ]
    }
   ],
   "source": [
    "#compile regular expression to remove full cast of actors and actresses\n",
    "title_clean=re.compile('(Full Cast of|Actors/Actresses|-\\sCast/Actors in This Movie)')\n",
    "\n",
    "from string import ascii_lowercase\n",
    "movie_list=[]\n",
    "for letter in ascii_lowercase:\n",
    "    link_page='https://www.ranker.com/fact-lists/film-actors/films/'+letter\n",
    "    page=requests.get(link_page)\n",
    "    soup=BeautifulSoup(page.text)\n",
    "    movies=soup.select('div.catgListing li > a')\n",
    "    movie_list.extend([tuple([title_clean.sub('',m.text).strip(),m['href']]) for m in movies])"
   ]
  },
  {
   "cell_type": "markdown",
   "metadata": {},
   "source": [
    "### Pull the cast list from each page"
   ]
  },
  {
   "cell_type": "code",
   "execution_count": 3,
   "metadata": {
    "collapsed": true
   },
   "outputs": [],
   "source": [
    "#function for getting the list of actors off a page\n",
    "def get_cast_list(page):    \n",
    "    soup=BeautifulSoup(page.text)\n",
    "    items=soup.select('div.listItem__data a')\n",
    "    return [actor.text for actor in items]"
   ]
  },
  {
   "cell_type": "code",
   "execution_count": 4,
   "metadata": {},
   "outputs": [],
   "source": [
    "from ediblepickle import checkpoint\n",
    "\n",
    "@checkpoint(key=string.Template('RankerMovie{0}.pkd'))\n",
    "def cached_page_retrieval(movie,link):\n",
    "    return requests.get(link)\n",
    "\n",
    "url='https://www.ranker.com'\n",
    "\n",
    "cast_lists=[]\n",
    "for m in movie_list:\n",
    "    try:\n",
    "        page=cached_page_retrieval(m[0].replace('/',''),url+m[1])\n",
    "    except Exception:\n",
    "        page=requests.get(url+m[1])\n",
    "    cast_list=get_cast_list(page)\n",
    "    cast_lists.extend([tuple([m[0],cast_list])])"
   ]
  },
  {
   "cell_type": "markdown",
   "metadata": {},
   "source": [
    "## Analyze the Data"
   ]
  },
  {
   "cell_type": "markdown",
   "metadata": {},
   "source": [
    "### Make a graph of actors who have been in movies together"
   ]
  },
  {
   "cell_type": "code",
   "execution_count": 5,
   "metadata": {
    "collapsed": true
   },
   "outputs": [],
   "source": [
    "import itertools\n",
    "import networkx as nx\n",
    "\n",
    "G=nx.Graph()\n",
    "for movie in cast_lists:\n",
    "    if len(movie)>1:\n",
    "        for pair in  itertools.combinations(movie[1],2):\n",
    "            G.add_edge(pair[0],pair[1], name=movie[0])"
   ]
  },
  {
   "cell_type": "code",
   "execution_count": 6,
   "metadata": {},
   "outputs": [
    {
     "data": {
      "text/plain": [
       "{'Kevin Bacon': 539}"
      ]
     },
     "execution_count": 6,
     "metadata": {},
     "output_type": "execute_result"
    }
   ],
   "source": [
    "G.degree(['Kevin Bacon'])"
   ]
  },
  {
   "cell_type": "markdown",
   "metadata": {},
   "source": [
    "### Determine the most conected actors using \"Degree\""
   ]
  },
  {
   "cell_type": "code",
   "execution_count": 9,
   "metadata": {},
   "outputs": [
    {
     "name": "stdout",
     "output_type": "stream",
     "text": [
      "[(u'Samuel L. Jackson', 1034), (u'Anupam Kher', 705), (u'Keith David', 682), (u'Shakti Kapoor', 678), (u'Robert De Niro', 674), (u'Bruce Willis', 670), (u'Donald Sutherland', 638), (u'Asrani', 634), (u'Christopher Walken', 628), (u'Tom Cruise', 616)]\n"
     ]
    }
   ],
   "source": [
    "from heapq import heappush, heappop\n",
    "\n",
    "degree_heap=[]\n",
    "for person in G.nodes_iter():\n",
    "    degree_tuple=tuple([-1*G.degree([person]).values()[0],person])\n",
    "    heappush(degree_heap,degree_tuple)\n",
    "\n",
    "#copy the degree heap so it can be popped multiple times\n",
    "degree_heap2=list(degree_heap)\n",
    "\n",
    "most_connections=[]\n",
    "for _ in xrange(100):\n",
    "    person=heappop(degree_heap)\n",
    "    most_connections.append(tuple([person[1],-1*person[0]]))   \n",
    "print(most_connections[0:10])\n",
    "\n",
    "actor=''\n"
   ]
  },
  {
   "cell_type": "markdown",
   "metadata": {},
   "source": [
    "It turns out the Kevin Bacon is not one of the 10 Actors with the highers degrees.\n",
    "\n",
    "**Lets see how far down he actually ranks**"
   ]
  },
  {
   "cell_type": "code",
   "execution_count": 8,
   "metadata": {},
   "outputs": [
    {
     "name": "stdout",
     "output_type": "stream",
     "text": [
      "Kevin Bacon is the 31 most connected actor\n"
     ]
    }
   ],
   "source": [
    "while actor!=u'Kevin Bacon':\n",
    "    count+=1\n",
    "    actor=heappop(degree_heap2)[1]\n",
    "print('Kevin Bacon is the %d most connected actor'%count)"
   ]
  },
  {
   "cell_type": "markdown",
   "metadata": {},
   "source": [
    "### Look at pagerank to see if the mystique of Kevin Bacon is that his connections have a lot of connections"
   ]
  },
  {
   "cell_type": "code",
   "execution_count": 10,
   "metadata": {
    "collapsed": true
   },
   "outputs": [],
   "source": [
    "pr=nx.pagerank(G)"
   ]
  },
  {
   "cell_type": "code",
   "execution_count": 11,
   "metadata": {},
   "outputs": [
    {
     "name": "stdout",
     "output_type": "stream",
     "text": [
      "[(u'Samuel L. Jackson', 0.0004644314238820777), (u'Keith David', 0.000321011281122411), (u'Robert De Niro', 0.00030693237246395393), (u'Donald Sutherland', 0.0003006170369563207), (u'Bruce Willis', 0.0002983770741671947), (u'Anupam Kher', 0.0002955226698068339), (u'Christopher Walken', 0.000288530891591078), (u'Sean Connery', 0.00028031042971549526), (u'Tom Cruise', 0.0002796625719341551), (u'Robbie Coltrane', 0.0002743815769041216)]\n"
     ]
    }
   ],
   "source": [
    "pr_heap=[]\n",
    "for person in pr.iteritems():\n",
    "    pr_tuple=tuple([-1*person[1],person[0]])\n",
    "    heappush(pr_heap,pr_tuple)\n",
    "\n",
    "pr_heap2=list(pr_heap)\n",
    "most_pr=[]\n",
    "for _ in xrange(100):\n",
    "    person=heappop(pr_heap)\n",
    "    most_pr.append(tuple([person[1],-1*person[0]]))   \n",
    "print(most_pr[0:10])"
   ]
  },
  {
   "cell_type": "markdown",
   "metadata": {},
   "source": [
    "The pagerank order looks pretty similar to the degree order, witht he exception that the Indian sounding names (likely Bollywood actors are lower on the list.  This makes sense as there is a larger pool of Hollywood movies then Bollywood movies.  \n",
    "\n",
    "**Lets see how low Kevin Bacon is:**"
   ]
  },
  {
   "cell_type": "code",
   "execution_count": 12,
   "metadata": {},
   "outputs": [
    {
     "name": "stdout",
     "output_type": "stream",
     "text": [
      "Kevin Bacon is the 57 most connected actor\n"
     ]
    }
   ],
   "source": [
    "while actor!=u'Kevin Bacon':\n",
    "    count+=1\n",
    "    actor=heappop(pr_heap2)[1]\n",
    "print('Kevin Bacon is the %d most connected actor'%count)"
   ]
  },
  {
   "cell_type": "markdown",
   "metadata": {},
   "source": [
    "Turns out if you want to make the Six degrees game easy you should be using **Samuel L. Jackson**...\n",
    "\n",
    "Lets see how the degrees of seperation compare between Samuel L. Jackson and Kevin Bacon\n"
   ]
  },
  {
   "cell_type": "code",
   "execution_count": 13,
   "metadata": {
    "collapsed": true
   },
   "outputs": [],
   "source": [
    "kb_hist=nx.shortest_path(G,target='Kevin Bacon')\n",
    "slj_hist=nx.shortest_path(G,target='Samuel L. Jackson')"
   ]
  },
  {
   "cell_type": "code",
   "execution_count": 15,
   "metadata": {},
   "outputs": [
    {
     "data": {
      "image/png": "[encoded data removed]",
      "text/plain": [
       "<matplotlib.figure.Figure at 0x7fd169993490>"
      ]
     },
     "metadata": {},
     "output_type": "display_data"
    }
   ],
   "source": [
    "import matplotlib.pyplot as plt\n",
    "kb_paths=[]\n",
    "for a in kb_hist.items():\n",
    "    kb_paths.append(len(a[1])-1)\n",
    "slj_paths=[]\n",
    "for a in slj_hist.items():\n",
    "    slj_paths.append(len(a[1])-1)\n",
    "\n",
    "fig=plt.figure(figsize=(8,8)) \n",
    "plt.hist(kb_paths,bins=[.5,1.5,2.5,3.5,4.5,5.5],alpha=.2,label='Kevin Bacon')\n",
    "plt.hist(slj_paths,bins=[.5,1.5,2.5,3.5,4.5,5.5],alpha=.2, label='Samuel L. Jackson')\n",
    "plt.legend(fontsize=16)\n",
    "plt.xlabel('Seperation Number', fontsize=16)\n",
    "plt.ylabel('Number of Actors', fontsize=16)\n",
    "plt.show()"
   ]
  },
  {
   "cell_type": "markdown",
   "metadata": {
    "collapsed": true
   },
   "source": [
    "## Develop a function for finding the shortest path between two actors/actresses"
   ]
  },
  {
   "cell_type": "code",
   "execution_count": 16,
   "metadata": {},
   "outputs": [
    {
     "name": "stdout",
     "output_type": "stream",
     "text": [
      "[(u'Keith David', u'The Chronicles Of Riddick'), (u'Ian MacDonald', u'Road House'), ('Grace Kelly', u'High Noon')]\n"
     ]
    }
   ],
   "source": [
    "def path_search(G,s,t):\n",
    "    sp=nx.shortest_path(G,source=s,target=t)\n",
    "    name_previous=s\n",
    "    path_list=[]\n",
    "    for actor in sp[1:]:\n",
    "        name_tuple=tuple([actor,G[name_previous][actor]['name']])\n",
    "        name_previous=actor\n",
    "        path_list.append(name_tuple)\n",
    "    return path_list\n",
    "\n",
    "print(path_search(G,'Judi Dench','Grace Kelly'))"
   ]
  },
  {
   "cell_type": "markdown",
   "metadata": {},
   "source": [
    "It turns out there are 3 degrees of seperation between Dame Judi Dench and Princess Grace Kelly"
   ]
  }
 ],
 "metadata": {
  "kernelspec": {
   "display_name": "Python 2",
   "language": "python",
   "name": "python2"
  },
  "language_info": {
   "codemirror_mode": {
    "name": "ipython",
    "version": 2
   },
   "file_extension": ".py",
   "mimetype": "text/x-python",
   "name": "python",
   "nbconvert_exporter": "python",
   "pygments_lexer": "ipython2",
   "version": "2.7.13"
  }
 },
 "nbformat": 4,
 "nbformat_minor": 2
}
